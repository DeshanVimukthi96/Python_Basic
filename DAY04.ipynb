{
 "cells": [
  {
   "cell_type": "code",
   "execution_count": 1,
   "id": "fdb1a45b",
   "metadata": {},
   "outputs": [],
   "source": [
    "marks=[23,56,45,67,89,46,78,90,56,34,45]"
   ]
  },
  {
   "cell_type": "code",
   "execution_count": 20,
   "id": "6b3fbba6",
   "metadata": {},
   "outputs": [],
   "source": [
    "def fun(M):\n",
    "    a=[\"pass\" if m>=50 else \"fail\" for m in marks].count(\"pass\")\n",
    "    return a/len(M)*100"
   ]
  },
  {
   "cell_type": "code",
   "execution_count": 3,
   "id": "a3480b69",
   "metadata": {},
   "outputs": [
    {
     "data": {
      "text/plain": [
       "6"
      ]
     },
     "execution_count": 3,
     "metadata": {},
     "output_type": "execute_result"
    }
   ],
   "source": [
    "[\"pass\" if m>=50 else \"fail\" for m in marks].count(\"pass\")"
   ]
  },
  {
   "cell_type": "code",
   "execution_count": 21,
   "id": "83e7c76f",
   "metadata": {},
   "outputs": [
    {
     "data": {
      "text/plain": [
       "54.54545454545454"
      ]
     },
     "execution_count": 21,
     "metadata": {},
     "output_type": "execute_result"
    }
   ],
   "source": [
    "fun(marks)"
   ]
  },
  {
   "cell_type": "code",
   "execution_count": 22,
   "id": "d279eb69",
   "metadata": {},
   "outputs": [],
   "source": [
    "def fun1(X):\n",
    "    L=[]\n",
    "    for m in X:\n",
    "        if m>=50:\n",
    "            L.append(m)\n",
    "    print(len(L)/len(X)*100)"
   ]
  },
  {
   "cell_type": "code",
   "execution_count": 23,
   "id": "7ead1a2a",
   "metadata": {},
   "outputs": [
    {
     "name": "stdout",
     "output_type": "stream",
     "text": [
      "54.54545454545454\n"
     ]
    }
   ],
   "source": [
    "fun1(marks)"
   ]
  },
  {
   "cell_type": "code",
   "execution_count": 13,
   "id": "a6b61420",
   "metadata": {},
   "outputs": [
    {
     "name": "stdout",
     "output_type": "stream",
     "text": [
      "6\n"
     ]
    }
   ],
   "source": [
    "L=[]\n",
    "for m in marks:\n",
    "        if m>=50:\n",
    "            L.append(m)\n",
    "print(len(L))"
   ]
  },
  {
   "cell_type": "code",
   "execution_count": 12,
   "id": "929f6a18",
   "metadata": {},
   "outputs": [
    {
     "data": {
      "text/plain": [
       "[56, 67, 89, 78, 90, 56]"
      ]
     },
     "execution_count": 12,
     "metadata": {},
     "output_type": "execute_result"
    }
   ],
   "source": [
    "L"
   ]
  },
  {
   "cell_type": "markdown",
   "id": "c166ad47",
   "metadata": {},
   "source": [
    "# map() function"
   ]
  },
  {
   "cell_type": "code",
   "execution_count": 25,
   "id": "2ee50665",
   "metadata": {},
   "outputs": [],
   "source": [
    "L=[2,3,5,6,8,3,10,11,12,20]\n",
    "\n",
    "def odd_even(x):\n",
    "    if x%2==0:\n",
    "        return \"even\"\n",
    "    else:\n",
    "        return \"odd\""
   ]
  },
  {
   "cell_type": "code",
   "execution_count": 27,
   "id": "af5f36ac",
   "metadata": {},
   "outputs": [
    {
     "data": {
      "text/plain": [
       "['even', 'odd', 'odd', 'even', 'even', 'odd', 'even', 'odd', 'even', 'even']"
      ]
     },
     "execution_count": 27,
     "metadata": {},
     "output_type": "execute_result"
    }
   ],
   "source": [
    "list(map(odd_even,L))"
   ]
  },
  {
   "cell_type": "code",
   "execution_count": 28,
   "id": "2b7cc0cf",
   "metadata": {},
   "outputs": [],
   "source": [
    "L1=[2,3,4,5,6]\n",
    "def member_ship(X,a):\n",
    "    return a in X"
   ]
  },
  {
   "cell_type": "code",
   "execution_count": 31,
   "id": "b31fe5f5",
   "metadata": {},
   "outputs": [
    {
     "data": {
      "text/plain": [
       "True"
      ]
     },
     "execution_count": 31,
     "metadata": {},
     "output_type": "execute_result"
    }
   ],
   "source": [
    "member_ship(L1,6)"
   ]
  },
  {
   "cell_type": "code",
   "execution_count": 32,
   "id": "9f111051",
   "metadata": {},
   "outputs": [],
   "source": [
    "def new_member_ship(a):\n",
    "    L=[2,3,4]\n",
    "    return a in L"
   ]
  },
  {
   "cell_type": "code",
   "execution_count": 37,
   "id": "fa021643",
   "metadata": {},
   "outputs": [
    {
     "data": {
      "text/plain": [
       "[False, True, True, True, False, False]"
      ]
     },
     "execution_count": 37,
     "metadata": {},
     "output_type": "execute_result"
    }
   ],
   "source": [
    "Z=[1,2,3,4,5,6]\n",
    "list(map(new_member_ship,Z))"
   ]
  },
  {
   "cell_type": "code",
   "execution_count": 40,
   "id": "3ae73205",
   "metadata": {},
   "outputs": [],
   "source": [
    "L=[1,2,3,4,5,6,7,8,9,10]\n",
    "def make_string(a):\n",
    "    return str(a)"
   ]
  },
  {
   "cell_type": "code",
   "execution_count": 47,
   "id": "1acfbe32",
   "metadata": {},
   "outputs": [
    {
     "data": {
      "text/plain": [
       "['1', '2', '3', '4', '5', '6', '7', '8', '9', '10']"
      ]
     },
     "execution_count": 47,
     "metadata": {},
     "output_type": "execute_result"
    }
   ],
   "source": [
    "list(map(make_string,L))"
   ]
  },
  {
   "cell_type": "markdown",
   "id": "348719cd",
   "metadata": {},
   "source": [
    "# lambda"
   ]
  },
  {
   "cell_type": "code",
   "execution_count": 48,
   "id": "7b8dba54",
   "metadata": {},
   "outputs": [],
   "source": [
    "def fun1(a):\n",
    "    return 2*a"
   ]
  },
  {
   "cell_type": "code",
   "execution_count": 50,
   "id": "59b1c4b9",
   "metadata": {},
   "outputs": [
    {
     "data": {
      "text/plain": [
       "20"
      ]
     },
     "execution_count": 50,
     "metadata": {},
     "output_type": "execute_result"
    }
   ],
   "source": [
    "fun1(10)"
   ]
  },
  {
   "cell_type": "code",
   "execution_count": 51,
   "id": "0ab07218",
   "metadata": {},
   "outputs": [],
   "source": [
    "fun2=lambda a:2*a"
   ]
  },
  {
   "cell_type": "code",
   "execution_count": 54,
   "id": "e13d487c",
   "metadata": {},
   "outputs": [
    {
     "data": {
      "text/plain": [
       "100"
      ]
     },
     "execution_count": 54,
     "metadata": {},
     "output_type": "execute_result"
    }
   ],
   "source": [
    "fun2(50)"
   ]
  },
  {
   "cell_type": "code",
   "execution_count": 60,
   "id": "78dd6b4b",
   "metadata": {},
   "outputs": [],
   "source": [
    "pass_precentage=lambda L:([\"pass\" if m>=50 else \"fail\" for m in L].count(\"pass\"))/len(L)*100"
   ]
  },
  {
   "cell_type": "code",
   "execution_count": 63,
   "id": "7bd1c01e",
   "metadata": {},
   "outputs": [
    {
     "data": {
      "text/plain": [
       "62.5"
      ]
     },
     "execution_count": 63,
     "metadata": {},
     "output_type": "execute_result"
    }
   ],
   "source": [
    "marks=[60,75,80,40,20,10,85,100]\n",
    "pass_precentage(marks)"
   ]
  },
  {
   "cell_type": "code",
   "execution_count": 1,
   "id": "37797426",
   "metadata": {},
   "outputs": [],
   "source": [
    "fun3=lambda x:2*x"
   ]
  },
  {
   "cell_type": "code",
   "execution_count": 4,
   "id": "fa637aaa",
   "metadata": {},
   "outputs": [
    {
     "data": {
      "text/plain": [
       "[2, 4, 6, 8, 10, 12]"
      ]
     },
     "execution_count": 4,
     "metadata": {},
     "output_type": "execute_result"
    }
   ],
   "source": [
    "L=[1,2,3,4,5,6]\n",
    "list(map(fun3,L))"
   ]
  },
  {
   "cell_type": "markdown",
   "id": "f5c7387a",
   "metadata": {},
   "source": [
    "# Recursive"
   ]
  },
  {
   "cell_type": "code",
   "execution_count": 19,
   "id": "3555182f",
   "metadata": {},
   "outputs": [],
   "source": [
    "def find_fact(x):\n",
    "    fact=1\n",
    "    if x>=0:\n",
    "        for i in range(1,x+1):\n",
    "            fact=fact*i\n",
    "        print(fact)\n",
    "    else:\n",
    "        print(\"Invalid argument. Type positive numuber\")"
   ]
  },
  {
   "cell_type": "code",
   "execution_count": 28,
   "id": "4b1a8160",
   "metadata": {},
   "outputs": [
    {
     "name": "stdout",
     "output_type": "stream",
     "text": [
      "2\n"
     ]
    }
   ],
   "source": [
    "find_fact(2)"
   ]
  },
  {
   "cell_type": "code",
   "execution_count": null,
   "id": "c5539360",
   "metadata": {},
   "outputs": [],
   "source": []
  }
 ],
 "metadata": {
  "kernelspec": {
   "display_name": "Python 3",
   "language": "python",
   "name": "python3"
  },
  "language_info": {
   "codemirror_mode": {
    "name": "ipython",
    "version": 3
   },
   "file_extension": ".py",
   "mimetype": "text/x-python",
   "name": "python",
   "nbconvert_exporter": "python",
   "pygments_lexer": "ipython3",
   "version": "3.8.8"
  }
 },
 "nbformat": 4,
 "nbformat_minor": 5
}

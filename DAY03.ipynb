{
 "cells": [
  {
   "cell_type": "markdown",
   "id": "a64caeaf",
   "metadata": {},
   "source": [
    "# Conditional Operators"
   ]
  },
  {
   "cell_type": "markdown",
   "id": "b8238e5d",
   "metadata": {},
   "source": [
    "if,elif and else"
   ]
  },
  {
   "cell_type": "code",
   "execution_count": 4,
   "id": "8b7c4d3f",
   "metadata": {},
   "outputs": [
    {
     "name": "stdout",
     "output_type": "stream",
     "text": [
      "Enter Your marks:10\n",
      "F\n"
     ]
    }
   ],
   "source": [
    "x=int(input(\"Enter Your marks:\"))\n",
    "\n",
    "if x>=75:\n",
    "    grade=\"A\"\n",
    "elif x>=65:\n",
    "    grade=\"B\"\n",
    "elif x>=55:\n",
    "    grade=\"C\"\n",
    "elif x>=35:\n",
    "    grade=\"S\"\n",
    "else:\n",
    "    grade=\"F\"\n",
    "    \n",
    "print(grade)\n"
   ]
  },
  {
   "cell_type": "code",
   "execution_count": 12,
   "id": "199cb53a",
   "metadata": {},
   "outputs": [
    {
     "name": "stdout",
     "output_type": "stream",
     "text": [
      "Enter ur Username:Desh\n",
      "Enter ur password:123\n",
      "You are logging succesfully\n"
     ]
    }
   ],
   "source": [
    "boc={\"Desh\":123,\"Vimu\":456}\n",
    "\n",
    "username=input(\"Enter ur Username:\")\n",
    "password=int(input(\"Enter ur password:\"))\n",
    "\n",
    "if username in boc and password==boc[username]:\n",
    "    print(\"You are logging succesfully\")\n",
    "else:\n",
    "    print(\"Invalid username or password\")"
   ]
  },
  {
   "cell_type": "code",
   "execution_count": null,
   "id": "27488529",
   "metadata": {},
   "outputs": [],
   "source": []
  }
 ],
 "metadata": {
  "kernelspec": {
   "display_name": "Python 3",
   "language": "python",
   "name": "python3"
  },
  "language_info": {
   "codemirror_mode": {
    "name": "ipython",
    "version": 3
   },
   "file_extension": ".py",
   "mimetype": "text/x-python",
   "name": "python",
   "nbconvert_exporter": "python",
   "pygments_lexer": "ipython3",
   "version": "3.8.8"
  }
 },
 "nbformat": 4,
 "nbformat_minor": 5
}
